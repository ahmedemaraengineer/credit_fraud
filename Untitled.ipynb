{
 "cells": [
  {
   "cell_type": "code",
   "execution_count": 2,
   "id": "0829364c-cc9d-4c48-8301-31c5521a0be0",
   "metadata": {},
   "outputs": [
    {
     "name": "stdin",
     "output_type": "stream",
     "text": [
      " 1 2 3\n"
     ]
    }
   ],
   "source": [
    "list1 = list(map(int, input().split()))"
   ]
  },
  {
   "cell_type": "code",
   "execution_count": 3,
   "id": "c37835ad-3602-44d5-8ec4-02ff1b761486",
   "metadata": {},
   "outputs": [
    {
     "data": {
      "text/plain": [
       "[1, 2, 3]"
      ]
     },
     "execution_count": 3,
     "metadata": {},
     "output_type": "execute_result"
    }
   ],
   "source": [
    "list1"
   ]
  },
  {
   "cell_type": "code",
   "execution_count": 4,
   "id": "0eed24f5-f50f-4390-97aa-c16978c7a396",
   "metadata": {},
   "outputs": [
    {
     "data": {
      "text/plain": [
       "2"
      ]
     },
     "execution_count": 4,
     "metadata": {},
     "output_type": "execute_result"
    }
   ],
   "source": [
    "int(2.3)"
   ]
  },
  {
   "cell_type": "code",
   "execution_count": 6,
   "id": "0b233731-2691-44cb-9138-440e9d8ca863",
   "metadata": {},
   "outputs": [
    {
     "data": {
      "text/plain": [
       "'2.3000'"
      ]
     },
     "execution_count": 6,
     "metadata": {},
     "output_type": "execute_result"
    }
   ],
   "source": [
    "\"{:.4f}\".format(2.3)"
   ]
  },
  {
   "cell_type": "code",
   "execution_count": 7,
   "id": "7274bcda-f838-4990-96f9-779cc6301cc2",
   "metadata": {},
   "outputs": [
    {
     "name": "stdin",
     "output_type": "stream",
     "text": [
      " 12\n"
     ]
    }
   ],
   "source": [
    "first_multiple_input = input().rstrip().split()"
   ]
  },
  {
   "cell_type": "code",
   "execution_count": 2,
   "id": "85396bee-4899-4d82-92e3-a2c18ea4cd4b",
   "metadata": {},
   "outputs": [],
   "source": [
    "n = int(first_multiple_input[0])\n"
   ]
  },
  {
   "cell_type": "code",
   "execution_count": 3,
   "id": "7ea3e163-3d96-4bc2-89de-e002430f54ce",
   "metadata": {},
   "outputs": [
    {
     "data": {
      "text/plain": [
       "12"
      ]
     },
     "execution_count": 3,
     "metadata": {},
     "output_type": "execute_result"
    }
   ],
   "source": [
    "n"
   ]
  },
  {
   "cell_type": "code",
   "execution_count": 8,
   "id": "9e112e88-d594-4b4d-a289-500bc75be701",
   "metadata": {},
   "outputs": [
    {
     "data": {
      "text/plain": [
       "['12']"
      ]
     },
     "execution_count": 8,
     "metadata": {},
     "output_type": "execute_result"
    }
   ],
   "source": [
    "first_multiple_input"
   ]
  },
  {
   "cell_type": "code",
   "execution_count": 9,
   "id": "a4c768d1-4e9b-4a9a-8154-c2228d0d7806",
   "metadata": {},
   "outputs": [],
   "source": [
    "a = [[] for _ in range(3)]"
   ]
  },
  {
   "cell_type": "code",
   "execution_count": 10,
   "id": "c7803a9b-be56-4def-a48f-fd11d3010510",
   "metadata": {},
   "outputs": [
    {
     "data": {
      "text/plain": [
       "[[], [], []]"
      ]
     },
     "execution_count": 10,
     "metadata": {},
     "output_type": "execute_result"
    }
   ],
   "source": [
    "a"
   ]
  },
  {
   "cell_type": "code",
   "execution_count": 9,
   "id": "5be273d5-60fd-440f-b635-24d6de6ba482",
   "metadata": {},
   "outputs": [],
   "source": [
    "class Animal:\n",
    "    def __init__(self, name, sound):\n",
    "        self.name = name\n",
    "        self.sound = sound\n",
    "\n",
    "    def Animal_details(self):\n",
    "        return(\"Name: \" + self.name + \"\\n\" + \"Sound: \" + self.sound)    \n",
    "    # write your class here\n",
    "\n",
    "class Dog(Animal):\n",
    "    def __init__(self, name, sound, family):\n",
    "        super().__init__(name, sound)\n",
    "        self.family = family\n",
    "\n",
    "    def Animal_details(self):\n",
    "        print(super().Animal_details() + \"\\n\" + \"Family: \" + self.family)    \n",
    "    # write your class here\n",
    "\n",
    "class Sheep(Animal):\n",
    "    def __init__(self, name, sound, Color):\n",
    "        super().__init__(name, sound)\n",
    "        self.Color = Color\n",
    "\n",
    "    def Animal_details(self):\n",
    "        print(super().Animal_details() + \"\\n\" + \"Color: \" + self.Color)"
   ]
  },
  {
   "cell_type": "code",
   "execution_count": 10,
   "id": "0548900a-e97e-45fc-b916-08b4292ce8f6",
   "metadata": {},
   "outputs": [
    {
     "name": "stdout",
     "output_type": "stream",
     "text": [
      "Name: Pongo\n",
      "Sound: Woof Woof\n",
      "Family: Husky\n",
      " \n",
      "Name: Billy\n",
      "Sound: Baaa Baaa\n",
      "Color: White\n"
     ]
    }
   ],
   "source": [
    "d = Dog(\"Pongo\", \"Woof Woof\", \"Husky\")\n",
    "d.Animal_details()\n",
    "print(\" \")\n",
    "s = Sheep(\"Billy\", \"Baaa Baaa\", \"White\")\n",
    "s.Animal_details()"
   ]
  },
  {
   "cell_type": "code",
   "execution_count": 6,
   "id": "04c76453-a71a-452d-ac02-0be024e5127d",
   "metadata": {},
   "outputs": [
    {
     "name": "stdout",
     "output_type": "stream",
     "text": [
      "sadas\n",
      "asd\n"
     ]
    }
   ],
   "source": [
    "print(\"sadas\" + \"\\n\" + 'asd')"
   ]
  },
  {
   "cell_type": "code",
   "execution_count": 15,
   "id": "726f32a9-0144-4657-b440-f690d544c669",
   "metadata": {},
   "outputs": [],
   "source": [
    "class Car:  \n",
    "    # write your class definition here\n",
    "    def __init__(self, model, color):\n",
    "        self.model = model \n",
    "        self.color = color\n",
    "\n",
    "    def printDetails(self):\n",
    "        print(\"Model:\", self.model)\n",
    "        print(\"Color:\", self.color)  \n",
    "\n",
    "class SedanEngine:\n",
    "    # write your class definition\n",
    "    def start(self):\n",
    "        print(\"Car has started.\")\n",
    "\n",
    "    def stop(self):\n",
    "        print(\"Car has stopped.\")    \n",
    "\n",
    "class Sedan(Car):\n",
    "    # write your class definition\n",
    "    def __init__(self, model, color):\n",
    "        super().__init__(model, color)\n",
    "        self.engine = SedanEngine()\n",
    "\n",
    "    def setStart(self):\n",
    "        self.engine.start()\n",
    "\n",
    "    def setStop(self):\n",
    "        self.engine.stop()        "
   ]
  },
  {
   "cell_type": "code",
   "execution_count": 16,
   "id": "db4d4c53-c6ad-4d1f-b699-007f3ba00156",
   "metadata": {},
   "outputs": [
    {
     "name": "stdout",
     "output_type": "stream",
     "text": [
      "Car has started.\n",
      "Model: Toyota\n",
      "Color: Grey\n",
      "Car has stopped.\n"
     ]
    }
   ],
   "source": [
    "car1 = Sedan(\"Toyota\",\"Grey\")\n",
    "car1.setStart()\n",
    "car1.printDetails()\n",
    "car1.setStop()"
   ]
  },
  {
   "cell_type": "code",
   "execution_count": 17,
   "id": "08c7bfca-c71e-4d21-b36d-2fea99167444",
   "metadata": {},
   "outputs": [
    {
     "ename": "TypeError",
     "evalue": "__init__() takes 2 positional arguments but 3 were given",
     "output_type": "error",
     "traceback": [
      "\u001b[1;31m---------------------------------------------------------------------------\u001b[0m",
      "\u001b[1;31mTypeError\u001b[0m                                 Traceback (most recent call last)",
      "\u001b[1;32m<ipython-input-17-7317c5938508>\u001b[0m in \u001b[0;36m<module>\u001b[1;34m\u001b[0m\n\u001b[0;32m      9\u001b[0m \u001b[1;33m\u001b[0m\u001b[0m\n\u001b[0;32m     10\u001b[0m \u001b[1;33m\u001b[0m\u001b[0m\n\u001b[1;32m---> 11\u001b[1;33m \u001b[0mobj\u001b[0m \u001b[1;33m=\u001b[0m \u001b[0mCar\u001b[0m\u001b[1;33m(\u001b[0m\u001b[1;34m'Tesla'\u001b[0m\u001b[1;33m)\u001b[0m\u001b[1;33m\u001b[0m\u001b[1;33m\u001b[0m\u001b[0m\n\u001b[0m",
      "\u001b[1;32m<ipython-input-17-7317c5938508>\u001b[0m in \u001b[0;36m__init__\u001b[1;34m(self, name)\u001b[0m\n\u001b[0;32m      6\u001b[0m \u001b[1;32mclass\u001b[0m \u001b[0mCar\u001b[0m\u001b[1;33m(\u001b[0m\u001b[0mVehicle\u001b[0m\u001b[1;33m)\u001b[0m\u001b[1;33m:\u001b[0m\u001b[1;33m\u001b[0m\u001b[1;33m\u001b[0m\u001b[0m\n\u001b[0;32m      7\u001b[0m     \u001b[1;32mdef\u001b[0m \u001b[0m__init__\u001b[0m\u001b[1;33m(\u001b[0m\u001b[0mself\u001b[0m\u001b[1;33m,\u001b[0m \u001b[0mname\u001b[0m\u001b[1;33m)\u001b[0m\u001b[1;33m:\u001b[0m\u001b[1;33m\u001b[0m\u001b[1;33m\u001b[0m\u001b[0m\n\u001b[1;32m----> 8\u001b[1;33m         \u001b[0msuper\u001b[0m\u001b[1;33m(\u001b[0m\u001b[1;33m)\u001b[0m\u001b[1;33m.\u001b[0m\u001b[0m__init__\u001b[0m\u001b[1;33m(\u001b[0m\u001b[0mself\u001b[0m\u001b[1;33m,\u001b[0m \u001b[0mname\u001b[0m\u001b[1;33m)\u001b[0m\u001b[1;33m\u001b[0m\u001b[1;33m\u001b[0m\u001b[0m\n\u001b[0m\u001b[0;32m      9\u001b[0m \u001b[1;33m\u001b[0m\u001b[0m\n\u001b[0;32m     10\u001b[0m \u001b[1;33m\u001b[0m\u001b[0m\n",
      "\u001b[1;31mTypeError\u001b[0m: __init__() takes 2 positional arguments but 3 were given"
     ]
    }
   ],
   "source": [
    "class Vehicle:\n",
    "    def __init__(self, name):\n",
    "        self.name = name\n",
    " \n",
    " \n",
    "class Car(Vehicle):\n",
    "    def __init__(self, name):\n",
    "        super().__init__(self, name)\n",
    " \n",
    " \n",
    "obj = Car('Tesla')"
   ]
  },
  {
   "cell_type": "code",
   "execution_count": 19,
   "id": "c6ab0231-1bf0-4b0d-a688-3d669b0f756a",
   "metadata": {},
   "outputs": [],
   "source": [
    "class Ingredient:\n",
    "    def __init__(self, name=''):\n",
    "        self.name = name\n",
    "\n",
    "    def printDetails(self):\n",
    "        print(self.name)\n",
    "\n",
    "\n",
    "class Pizza:\n",
    "    def __init__(self, cheese, tomato, topping, dough):\n",
    "        self.cheese = Ingredient(cheese)\n",
    "        self.tomato = Ingredient(tomatato)\n",
    "        self.pepperoni = Ingredient(topping)\n",
    "    \n",
    "    def __init__(self, name='', quantitiy=0):\n",
    "        self.name = name\n",
    "\n",
    "    def printDetails(self):\n",
    "        print(self.name)\n",
    "\n",
    "\n",
    "class Pizza:\n",
    "    def __init__(self, cheese, tomato, topping, dough):\n",
    "        self.cheese = Ingredient(cheese)\n",
    "        self.tomato = Ingredient(tomato)\n",
    "        self.topping = Ingredient(topping)\n",
    "        self.dough = Ingredient(dough)\n",
    "\n",
    "\n",
    "    def printIngredients(self):\n",
    "        self.cheese.printDetails()\n",
    "        self.tomato.printDetails()\n",
    "        self.topping.printDetails()\n",
    "        self.dough.printDetails()\n",
    "\n",
    "pepperoni_pizza = Pizza('cheese', 'tomato', 'pepperoni', 'dough')\n",
    "pepperoni_pizza.printIngredients()"
   ]
  },
  {
   "cell_type": "code",
   "execution_count": 20,
   "id": "08e17647-d78c-480f-b4ac-6172db40c327",
   "metadata": {},
   "outputs": [
    {
     "ename": "TypeError",
     "evalue": "Can't instantiate abstract class Shape with abstract methods area, perimeter",
     "output_type": "error",
     "traceback": [
      "\u001b[1;31m---------------------------------------------------------------------------\u001b[0m",
      "\u001b[1;31mTypeError\u001b[0m                                 Traceback (most recent call last)",
      "\u001b[1;32m<ipython-input-20-833d73658aaa>\u001b[0m in \u001b[0;36m<module>\u001b[1;34m\u001b[0m\n\u001b[0;32m     23\u001b[0m \u001b[1;33m\u001b[0m\u001b[0m\n\u001b[0;32m     24\u001b[0m \u001b[1;33m\u001b[0m\u001b[0m\n\u001b[1;32m---> 25\u001b[1;33m \u001b[0mshape\u001b[0m \u001b[1;33m=\u001b[0m \u001b[0mShape\u001b[0m\u001b[1;33m(\u001b[0m\u001b[1;33m)\u001b[0m\u001b[1;33m\u001b[0m\u001b[1;33m\u001b[0m\u001b[0m\n\u001b[0m",
      "\u001b[1;31mTypeError\u001b[0m: Can't instantiate abstract class Shape with abstract methods area, perimeter"
     ]
    }
   ],
   "source": [
    "from abc import ABC, abstractmethod\n",
    "\n",
    "\n",
    "class Shape(ABC):  # Shape is a child class of ABC\n",
    "    @abstractmethod\n",
    "    def area(self):\n",
    "        pass\n",
    "\n",
    "    @abstractmethod\n",
    "    def perimeter(self):\n",
    "        pass\n",
    "\n",
    "\n",
    "class Square(Shape):\n",
    "    def __init__(self, length):\n",
    "        self.length = length\n",
    "\n",
    "    def area(self):\n",
    "        return (self.length * self.length)\n",
    "\n",
    "    def perimeter(self):\n",
    "        return (4 * self.length)\n",
    "\n",
    "\n",
    "shape = Shape()"
   ]
  },
  {
   "cell_type": "code",
   "execution_count": null,
   "id": "ad622ea1-1318-4908-98c1-b33a296a6db1",
   "metadata": {},
   "outputs": [],
   "source": []
  }
 ],
 "metadata": {
  "kernelspec": {
   "display_name": "Python 3",
   "language": "python",
   "name": "python3"
  },
  "language_info": {
   "codemirror_mode": {
    "name": "ipython",
    "version": 3
   },
   "file_extension": ".py",
   "mimetype": "text/x-python",
   "name": "python",
   "nbconvert_exporter": "python",
   "pygments_lexer": "ipython3",
   "version": "3.8.8"
  }
 },
 "nbformat": 4,
 "nbformat_minor": 5
}
